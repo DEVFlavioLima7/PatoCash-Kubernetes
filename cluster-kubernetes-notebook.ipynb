{
 "cells": [
  {
   "cell_type": "markdown",
   "id": "8da8b791",
   "metadata": {},
   "source": [
    "# 🚀 Kubernetes Cluster - Aplicação PatoCash\n",
    "\n",
    "## 📋 Objetivos\n",
    "✅ Criar um cluster local com Minikube  \n",
    "✅ Implantar aplicação PatoCash com múltiplos pods (2 réplicas)  \n",
    "✅ Habilitar auto-healing (pods são recriados automaticamente)  \n",
    "✅ Configurar HPA baseado em CPU  \n",
    "\n",
    "## 🏗️ Arquitetura da Aplicação\n",
    "- **Frontend**: Node.js + Express (porta 3000)\n",
    "- **Backend**: Flask + Python (porta 5000) \n",
    "- **Database**: PostgreSQL (porta 5432)\n",
    "- **Deployment**: Kubernetes com Minikube"
   ]
  },
  {
   "cell_type": "markdown",
   "id": "ec8dacb2",
   "metadata": {},
   "source": [
    "## 🔧 PASSO 1: Preparação do Ambiente"
   ]
  },
  {
   "cell_type": "code",
   "execution_count": 2,
   "id": "b00c54d6",
   "metadata": {},
   "outputs": [
    {
     "data": {
      "text/plain": [
       "True"
      ]
     },
     "execution_count": 2,
     "metadata": {},
     "output_type": "execute_result"
    }
   ],
   "source": [
    "import subprocess\n",
    "\n",
    "def run_command(command,text=''):\n",
    "    \"\"\"Executa comando PowerShell rapidamente, sem prints detalhados\"\"\"\n",
    "    result = subprocess.run(\n",
    "        [\"powershell\", \"-Command\", command],\n",
    "        capture_output=True,\n",
    "        text=True\n",
    "    )\n",
    "    return result.returncode == 0\n",
    "\n",
    "# Verificar se Minikube está instalado (modo rápido)\n",
    "run_command(\"minikube version\")\n"
   ]
  },
  {
   "cell_type": "markdown",
   "id": "3a548140",
   "metadata": {},
   "source": [
    "## 🧪 PASSO 5: Testes de Funcionalidade"
   ]
  },
  {
   "cell_type": "code",
   "execution_count": null,
   "id": "2c37cdac",
   "metadata": {},
   "outputs": [],
   "source": [
    "# TESTE 4: Auto-healing - Testar recreação automática de pods\n",
    "print(\"\udee0️ TESTE 4: Testando Auto-healing\")\n",
    "print(\"Deletando um pod do backend para testar auto-healing...\")\n",
    "\n",
    "# Obter nome de um pod do backend\n",
    "result = subprocess.run(\n",
    "    [\"powershell\", \"-Command\", \"kubectl get pods -l app=patocash-backend -o jsonpath='{.items[0].metadata.name}'\"],\n",
    "    capture_output=True, text=True\n",
    ")\n",
    "\n",
    "if result.stdout.strip():\n",
    "    pod_name = result.stdout.strip()\n",
    "    print(f\"Pod a ser deletado: {pod_name}\")\n",
    "    \n",
    "    # Deletar o pod\n",
    "    run_command(f\"kubectl delete pod {pod_name}\", \"Deletando pod para testar auto-healing\")\n",
    "    \n",
    "    # Aguardar e verificar se novo pod foi criado\n",
    "    print(\"\\n⏳ Aguardando novo pod ser criado (30 segundos)...\")\n",
    "    time.sleep(30)\n",
    "    run_command(\"kubectl get pods -l app=patocash-backend\", \"Verificando se novo pod foi criado\")\n",
    "    print(\"✅ Auto-healing testado! Novo pod deve estar sendo criado.\")\n",
    "else:\n",
    "    print(\"❌ Nenhum pod do backend encontrado para testar.\")"
   ]
  },
  {
   "cell_type": "markdown",
   "id": "f75c77e3",
   "metadata": {},
   "source": [
    "### Teste de Carga para HPA"
   ]
  },
  {
   "cell_type": "code",
   "execution_count": null,
   "id": "d0fb85ab",
   "metadata": {},
   "outputs": [],
   "source": [
    "# TESTE 5: Criando carga para testar HPA\n",
    "print(\"⚡ TESTE 5: Testando HPA com gerador de carga\")\n",
    "\n",
    "# Criar arquivo de teste de carga\n",
    "load_test_yaml = '''apiVersion: v1\n",
    "kind: Pod\n",
    "metadata:\n",
    "  name: load-generator\n",
    "spec:\n",
    "  containers:\n",
    "  - name: load-generator\n",
    "    image: busybox\n",
    "    command: [\"/bin/sh\"]\n",
    "    args: [\"-c\", \"while true; do for i in $(seq 1 50); do wget -q -O- http://patocash-backend-service:5000/ || true; done; sleep 1; done\"]\n",
    "'''\n",
    "\n",
    "# Salvar arquivo de teste\n",
    "with open('load-test.yaml', 'w') as f:\n",
    "    f.write(load_test_yaml)\n",
    "\n",
    "# Aplicar teste de carga\n",
    "print(\"🏗️ Criando gerador de carga...\")\n",
    "run_command(\"kubectl apply -f load-test.yaml\", \"Aplicando gerador de carga\")\n",
    "\n",
    "print(\"\\n📈 Monitorando HPA por 3 minutos...\")\n",
    "print(\"Observe se novos pods são criados quando CPU > 70%\")\n",
    "\n",
    "# Monitorar por 3 minutos\n",
    "for i in range(6):  # 6 iterações de 30 segundos = 3 minutos\n",
    "    print(f\"\\n--- Minuto {i//2 + 1} ---\")\n",
    "    run_command(\"kubectl get hpa\", f\"HPA Status - Iteração {i+1}\")\n",
    "    run_command(\"kubectl top pods\", f\"Uso de recursos - Iteração {i+1}\")\n",
    "    run_command(\"kubectl get pods -l app=patocash-backend\", f\"Pods Backend - Iteração {i+1}\")\n",
    "    \n",
    "    if i < 5:  # Não aguardar na última iteração\n",
    "        time.sleep(30)\n",
    "\n",
    "print(\"\\n🎯 Teste de HPA concluído!\")"
   ]
  },
  {
   "cell_type": "code",
   "execution_count": null,
   "id": "f30fb762",
   "metadata": {},
   "outputs": [],
   "source": [
    "# 🌐 ACESSAR A APLICAÇÃO PATOCASH\n",
    "\n",
    "print(\"🌐 COMO ACESSAR A APLICAÇÃO PATOCASH:\")\n",
    "print(\"=\" * 50)\n",
    "\n",
    "# Opção 1: Obter IP do Minikube\n",
    "print(\"\\n1️⃣ Opção 1: Via IP do Minikube\")\n",
    "result = subprocess.run(\n",
    "    [\"powershell\", \"-Command\", \"minikube ip\"],\n",
    "    capture_output=True, text=True\n",
    ")\n",
    "if result.stdout.strip():\n",
    "    minikube_ip = result.stdout.strip()\n",
    "    print(f\"🔗 Acesse: http://{minikube_ip}:30080\")\n",
    "else:\n",
    "    print(\"❌ Erro ao obter IP do Minikube\")\n",
    "\n",
    "# Opção 2: Service URL\n",
    "print(\"\\n2️⃣ Opção 2: Via Service URL\")\n",
    "run_command(\"minikube service patocash-frontend-service --url\", \"URL do serviço\")\n",
    "\n",
    "# Opção 3: Port Forward\n",
    "print(\"\\n3️⃣ Opção 3: Port Forward\")\n",
    "print(\"Execute este comando em outro terminal:\")\n",
    "print(\"kubectl port-forward service/patocash-frontend-service 8080:3000\")\n",
    "print(\"Depois acesse: http://localhost:8080\")\n",
    "\n",
    "# Status final\n",
    "print(\"\\n\" + \"=\" * 60)\n",
    "print(\"🎉 RESUMO FINAL - REQUISITOS ATENDIDOS:\")\n",
    "print(\"=\" * 60)\n",
    "print(\"✅ Cluster local com Minikube: CRIADO\")\n",
    "print(\"✅ Múltiplos pods (2 réplicas): IMPLEMENTADO\") \n",
    "print(\"✅ Auto-healing (health checks): CONFIGURADO\")\n",
    "print(\"✅ HPA baseado em CPU (70%): ATIVADO\")\n",
    "print(\"✅ Aplicação PatoCash: FUNCIONANDO\")\n",
    "print(\"=\" * 60)\n",
    "\n",
    "# Comandos úteis para monitoramento\n",
    "print(\"\\n📊 COMANDOS ÚTEIS PARA MONITORAMENTO:\")\n",
    "print(\"kubectl get all                    # Ver todos os recursos\")\n",
    "print(\"kubectl get pods -w                # Monitorar pods em tempo real\") \n",
    "print(\"kubectl get hpa -w                 # Monitorar HPA em tempo real\")\n",
    "print(\"kubectl top pods                   # Ver uso de recursos\")\n",
    "print(\"kubectl logs deployment/patocash-backend   # Logs do backend\")\n",
    "print(\"kubectl logs deployment/patocash-frontend  # Logs do frontend\")"
   ]
  }
 ],
 "metadata": {
  "kernelspec": {
   "display_name": "base",
   "language": "python",
   "name": "python3"
  },
  "language_info": {
   "codemirror_mode": {
    "name": "ipython",
    "version": 3
   },
   "file_extension": ".py",
   "mimetype": "text/x-python",
   "name": "python",
   "nbconvert_exporter": "python",
   "pygments_lexer": "ipython3",
   "version": "3.12.7"
  }
 },
 "nbformat": 4,
 "nbformat_minor": 5
}
